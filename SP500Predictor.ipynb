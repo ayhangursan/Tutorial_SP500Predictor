{
 "cells": [
  {
   "cell_type": "code",
   "execution_count": 1,
   "id": "c628b4ec",
   "metadata": {},
   "outputs": [],
   "source": [
    "import yfinance as yf"
   ]
  },
  {
   "cell_type": "code",
   "execution_count": 2,
   "id": "04bf6c9d",
   "metadata": {},
   "outputs": [],
   "source": [
    "sp500 = yf.Ticker(\"^GSPC\")"
   ]
  },
  {
   "cell_type": "code",
   "execution_count": 3,
   "id": "f1307190",
   "metadata": {},
   "outputs": [],
   "source": [
    "sp500 = sp500.history(period=\"max\")"
   ]
  },
  {
   "cell_type": "code",
   "execution_count": 4,
   "id": "e7569724",
   "metadata": {},
   "outputs": [
    {
     "data": {
      "text/html": [
       "<div>\n",
       "<style scoped>\n",
       "    .dataframe tbody tr th:only-of-type {\n",
       "        vertical-align: middle;\n",
       "    }\n",
       "\n",
       "    .dataframe tbody tr th {\n",
       "        vertical-align: top;\n",
       "    }\n",
       "\n",
       "    .dataframe thead th {\n",
       "        text-align: right;\n",
       "    }\n",
       "</style>\n",
       "<table border=\"1\" class=\"dataframe\">\n",
       "  <thead>\n",
       "    <tr style=\"text-align: right;\">\n",
       "      <th></th>\n",
       "      <th>Open</th>\n",
       "      <th>High</th>\n",
       "      <th>Low</th>\n",
       "      <th>Close</th>\n",
       "      <th>Volume</th>\n",
       "      <th>Dividends</th>\n",
       "      <th>Stock Splits</th>\n",
       "    </tr>\n",
       "    <tr>\n",
       "      <th>Date</th>\n",
       "      <th></th>\n",
       "      <th></th>\n",
       "      <th></th>\n",
       "      <th></th>\n",
       "      <th></th>\n",
       "      <th></th>\n",
       "      <th></th>\n",
       "    </tr>\n",
       "  </thead>\n",
       "  <tbody>\n",
       "    <tr>\n",
       "      <th>1927-12-30 00:00:00-05:00</th>\n",
       "      <td>17.660000</td>\n",
       "      <td>17.660000</td>\n",
       "      <td>17.660000</td>\n",
       "      <td>17.660000</td>\n",
       "      <td>0</td>\n",
       "      <td>0.0</td>\n",
       "      <td>0.0</td>\n",
       "    </tr>\n",
       "    <tr>\n",
       "      <th>1928-01-03 00:00:00-05:00</th>\n",
       "      <td>17.760000</td>\n",
       "      <td>17.760000</td>\n",
       "      <td>17.760000</td>\n",
       "      <td>17.760000</td>\n",
       "      <td>0</td>\n",
       "      <td>0.0</td>\n",
       "      <td>0.0</td>\n",
       "    </tr>\n",
       "    <tr>\n",
       "      <th>1928-01-04 00:00:00-05:00</th>\n",
       "      <td>17.719999</td>\n",
       "      <td>17.719999</td>\n",
       "      <td>17.719999</td>\n",
       "      <td>17.719999</td>\n",
       "      <td>0</td>\n",
       "      <td>0.0</td>\n",
       "      <td>0.0</td>\n",
       "    </tr>\n",
       "    <tr>\n",
       "      <th>1928-01-05 00:00:00-05:00</th>\n",
       "      <td>17.549999</td>\n",
       "      <td>17.549999</td>\n",
       "      <td>17.549999</td>\n",
       "      <td>17.549999</td>\n",
       "      <td>0</td>\n",
       "      <td>0.0</td>\n",
       "      <td>0.0</td>\n",
       "    </tr>\n",
       "    <tr>\n",
       "      <th>1928-01-06 00:00:00-05:00</th>\n",
       "      <td>17.660000</td>\n",
       "      <td>17.660000</td>\n",
       "      <td>17.660000</td>\n",
       "      <td>17.660000</td>\n",
       "      <td>0</td>\n",
       "      <td>0.0</td>\n",
       "      <td>0.0</td>\n",
       "    </tr>\n",
       "    <tr>\n",
       "      <th>...</th>\n",
       "      <td>...</td>\n",
       "      <td>...</td>\n",
       "      <td>...</td>\n",
       "      <td>...</td>\n",
       "      <td>...</td>\n",
       "      <td>...</td>\n",
       "      <td>...</td>\n",
       "    </tr>\n",
       "    <tr>\n",
       "      <th>2023-09-13 00:00:00-04:00</th>\n",
       "      <td>4462.649902</td>\n",
       "      <td>4479.390137</td>\n",
       "      <td>4453.520020</td>\n",
       "      <td>4467.439941</td>\n",
       "      <td>3529430000</td>\n",
       "      <td>0.0</td>\n",
       "      <td>0.0</td>\n",
       "    </tr>\n",
       "    <tr>\n",
       "      <th>2023-09-14 00:00:00-04:00</th>\n",
       "      <td>4487.779785</td>\n",
       "      <td>4511.990234</td>\n",
       "      <td>4478.689941</td>\n",
       "      <td>4505.100098</td>\n",
       "      <td>3648720000</td>\n",
       "      <td>0.0</td>\n",
       "      <td>0.0</td>\n",
       "    </tr>\n",
       "    <tr>\n",
       "      <th>2023-09-15 00:00:00-04:00</th>\n",
       "      <td>4497.979980</td>\n",
       "      <td>4497.979980</td>\n",
       "      <td>4447.209961</td>\n",
       "      <td>4450.319824</td>\n",
       "      <td>6932230000</td>\n",
       "      <td>0.0</td>\n",
       "      <td>0.0</td>\n",
       "    </tr>\n",
       "    <tr>\n",
       "      <th>2023-09-18 00:00:00-04:00</th>\n",
       "      <td>4445.129883</td>\n",
       "      <td>4466.359863</td>\n",
       "      <td>4442.109863</td>\n",
       "      <td>4453.529785</td>\n",
       "      <td>3161230000</td>\n",
       "      <td>0.0</td>\n",
       "      <td>0.0</td>\n",
       "    </tr>\n",
       "    <tr>\n",
       "      <th>2023-09-19 00:00:00-04:00</th>\n",
       "      <td>4445.410156</td>\n",
       "      <td>4449.850098</td>\n",
       "      <td>4416.609863</td>\n",
       "      <td>4443.950195</td>\n",
       "      <td>1988599000</td>\n",
       "      <td>0.0</td>\n",
       "      <td>0.0</td>\n",
       "    </tr>\n",
       "  </tbody>\n",
       "</table>\n",
       "<p>24044 rows × 7 columns</p>\n",
       "</div>"
      ],
      "text/plain": [
       "                                  Open         High          Low        Close  \\\n",
       "Date                                                                            \n",
       "1927-12-30 00:00:00-05:00    17.660000    17.660000    17.660000    17.660000   \n",
       "1928-01-03 00:00:00-05:00    17.760000    17.760000    17.760000    17.760000   \n",
       "1928-01-04 00:00:00-05:00    17.719999    17.719999    17.719999    17.719999   \n",
       "1928-01-05 00:00:00-05:00    17.549999    17.549999    17.549999    17.549999   \n",
       "1928-01-06 00:00:00-05:00    17.660000    17.660000    17.660000    17.660000   \n",
       "...                                ...          ...          ...          ...   \n",
       "2023-09-13 00:00:00-04:00  4462.649902  4479.390137  4453.520020  4467.439941   \n",
       "2023-09-14 00:00:00-04:00  4487.779785  4511.990234  4478.689941  4505.100098   \n",
       "2023-09-15 00:00:00-04:00  4497.979980  4497.979980  4447.209961  4450.319824   \n",
       "2023-09-18 00:00:00-04:00  4445.129883  4466.359863  4442.109863  4453.529785   \n",
       "2023-09-19 00:00:00-04:00  4445.410156  4449.850098  4416.609863  4443.950195   \n",
       "\n",
       "                               Volume  Dividends  Stock Splits  \n",
       "Date                                                            \n",
       "1927-12-30 00:00:00-05:00           0        0.0           0.0  \n",
       "1928-01-03 00:00:00-05:00           0        0.0           0.0  \n",
       "1928-01-04 00:00:00-05:00           0        0.0           0.0  \n",
       "1928-01-05 00:00:00-05:00           0        0.0           0.0  \n",
       "1928-01-06 00:00:00-05:00           0        0.0           0.0  \n",
       "...                               ...        ...           ...  \n",
       "2023-09-13 00:00:00-04:00  3529430000        0.0           0.0  \n",
       "2023-09-14 00:00:00-04:00  3648720000        0.0           0.0  \n",
       "2023-09-15 00:00:00-04:00  6932230000        0.0           0.0  \n",
       "2023-09-18 00:00:00-04:00  3161230000        0.0           0.0  \n",
       "2023-09-19 00:00:00-04:00  1988599000        0.0           0.0  \n",
       "\n",
       "[24044 rows x 7 columns]"
      ]
     },
     "execution_count": 4,
     "metadata": {},
     "output_type": "execute_result"
    }
   ],
   "source": [
    "sp500"
   ]
  },
  {
   "cell_type": "code",
   "execution_count": 6,
   "id": "83af5374",
   "metadata": {},
   "outputs": [
    {
     "data": {
      "text/plain": [
       "DatetimeIndex(['1927-12-30 00:00:00-05:00', '1928-01-03 00:00:00-05:00',\n",
       "               '1928-01-04 00:00:00-05:00', '1928-01-05 00:00:00-05:00',\n",
       "               '1928-01-06 00:00:00-05:00', '1928-01-09 00:00:00-05:00',\n",
       "               '1928-01-10 00:00:00-05:00', '1928-01-11 00:00:00-05:00',\n",
       "               '1928-01-12 00:00:00-05:00', '1928-01-13 00:00:00-05:00',\n",
       "               ...\n",
       "               '2023-09-06 00:00:00-04:00', '2023-09-07 00:00:00-04:00',\n",
       "               '2023-09-08 00:00:00-04:00', '2023-09-11 00:00:00-04:00',\n",
       "               '2023-09-12 00:00:00-04:00', '2023-09-13 00:00:00-04:00',\n",
       "               '2023-09-14 00:00:00-04:00', '2023-09-15 00:00:00-04:00',\n",
       "               '2023-09-18 00:00:00-04:00', '2023-09-19 00:00:00-04:00'],\n",
       "              dtype='datetime64[ns, America/New_York]', name='Date', length=24044, freq=None)"
      ]
     },
     "execution_count": 6,
     "metadata": {},
     "output_type": "execute_result"
    }
   ],
   "source": [
    "sp500.index"
   ]
  },
  {
   "cell_type": "code",
   "execution_count": 9,
   "id": "a0d3aac2",
   "metadata": {},
   "outputs": [
    {
     "data": {
      "text/plain": [
       "<AxesSubplot:xlabel='Date'>"
      ]
     },
     "execution_count": 9,
     "metadata": {},
     "output_type": "execute_result"
    },
    {
     "data": {
      "image/png": "[encoded data removed]",
      "text/plain": [
       "<Figure size 640x480 with 1 Axes>"
      ]
     },
     "metadata": {},
     "output_type": "display_data"
    }
   ],
   "source": [
    "sp500.plot.line(y=\"Close\", use_index=True)"
   ]
  },
  {
   "cell_type": "code",
   "execution_count": 10,
   "id": "2146e5b4",
   "metadata": {},
   "outputs": [],
   "source": [
    "del sp500[\"Dividends\"]\n",
    "del sp500[\"Stock Splits\"]"
   ]
  },
  {
   "cell_type": "code",
   "execution_count": 11,
   "id": "f4746a65",
   "metadata": {},
   "outputs": [],
   "source": [
    "sp500[\"Tomorrow\"] = sp500[\"Close\"].shift(-1)"
   ]
  },
  {
   "cell_type": "code",
   "execution_count": 12,
   "id": "e126205d",
   "metadata": {},
   "outputs": [
    {
     "data": {
      "text/html": [
       "<div>\n",
       "<style scoped>\n",
       "    .dataframe tbody tr th:only-of-type {\n",
       "        vertical-align: middle;\n",
       "    }\n",
       "\n",
       "    .dataframe tbody tr th {\n",
       "        vertical-align: top;\n",
       "    }\n",
       "\n",
       "    .dataframe thead th {\n",
       "        text-align: right;\n",
       "    }\n",
       "</style>\n",
       "<table border=\"1\" class=\"dataframe\">\n",
       "  <thead>\n",
       "    <tr style=\"text-align: right;\">\n",
       "      <th></th>\n",
       "      <th>Open</th>\n",
       "      <th>High</th>\n",
       "      <th>Low</th>\n",
       "      <th>Close</th>\n",
       "      <th>Volume</th>\n",
       "      <th>Tomorrow</th>\n",
       "    </tr>\n",
       "    <tr>\n",
       "      <th>Date</th>\n",
       "      <th></th>\n",
       "      <th></th>\n",
       "      <th></th>\n",
       "      <th></th>\n",
       "      <th></th>\n",
       "      <th></th>\n",
       "    </tr>\n",
       "  </thead>\n",
       "  <tbody>\n",
       "    <tr>\n",
       "      <th>1927-12-30 00:00:00-05:00</th>\n",
       "      <td>17.660000</td>\n",
       "      <td>17.660000</td>\n",
       "      <td>17.660000</td>\n",
       "      <td>17.660000</td>\n",
       "      <td>0</td>\n",
       "      <td>17.760000</td>\n",
       "    </tr>\n",
       "    <tr>\n",
       "      <th>1928-01-03 00:00:00-05:00</th>\n",
       "      <td>17.760000</td>\n",
       "      <td>17.760000</td>\n",
       "      <td>17.760000</td>\n",
       "      <td>17.760000</td>\n",
       "      <td>0</td>\n",
       "      <td>17.719999</td>\n",
       "    </tr>\n",
       "    <tr>\n",
       "      <th>1928-01-04 00:00:00-05:00</th>\n",
       "      <td>17.719999</td>\n",
       "      <td>17.719999</td>\n",
       "      <td>17.719999</td>\n",
       "      <td>17.719999</td>\n",
       "      <td>0</td>\n",
       "      <td>17.549999</td>\n",
       "    </tr>\n",
       "    <tr>\n",
       "      <th>1928-01-05 00:00:00-05:00</th>\n",
       "      <td>17.549999</td>\n",
       "      <td>17.549999</td>\n",
       "      <td>17.549999</td>\n",
       "      <td>17.549999</td>\n",
       "      <td>0</td>\n",
       "      <td>17.660000</td>\n",
       "    </tr>\n",
       "    <tr>\n",
       "      <th>1928-01-06 00:00:00-05:00</th>\n",
       "      <td>17.660000</td>\n",
       "      <td>17.660000</td>\n",
       "      <td>17.660000</td>\n",
       "      <td>17.660000</td>\n",
       "      <td>0</td>\n",
       "      <td>17.500000</td>\n",
       "    </tr>\n",
       "    <tr>\n",
       "      <th>...</th>\n",
       "      <td>...</td>\n",
       "      <td>...</td>\n",
       "      <td>...</td>\n",
       "      <td>...</td>\n",
       "      <td>...</td>\n",
       "      <td>...</td>\n",
       "    </tr>\n",
       "    <tr>\n",
       "      <th>2023-09-13 00:00:00-04:00</th>\n",
       "      <td>4462.649902</td>\n",
       "      <td>4479.390137</td>\n",
       "      <td>4453.520020</td>\n",
       "      <td>4467.439941</td>\n",
       "      <td>3529430000</td>\n",
       "      <td>4505.100098</td>\n",
       "    </tr>\n",
       "    <tr>\n",
       "      <th>2023-09-14 00:00:00-04:00</th>\n",
       "      <td>4487.779785</td>\n",
       "      <td>4511.990234</td>\n",
       "      <td>4478.689941</td>\n",
       "      <td>4505.100098</td>\n",
       "      <td>3648720000</td>\n",
       "      <td>4450.319824</td>\n",
       "    </tr>\n",
       "    <tr>\n",
       "      <th>2023-09-15 00:00:00-04:00</th>\n",
       "      <td>4497.979980</td>\n",
       "      <td>4497.979980</td>\n",
       "      <td>4447.209961</td>\n",
       "      <td>4450.319824</td>\n",
       "      <td>6932230000</td>\n",
       "      <td>4453.529785</td>\n",
       "    </tr>\n",
       "    <tr>\n",
       "      <th>2023-09-18 00:00:00-04:00</th>\n",
       "      <td>4445.129883</td>\n",
       "      <td>4466.359863</td>\n",
       "      <td>4442.109863</td>\n",
       "      <td>4453.529785</td>\n",
       "      <td>3161230000</td>\n",
       "      <td>4443.950195</td>\n",
       "    </tr>\n",
       "    <tr>\n",
       "      <th>2023-09-19 00:00:00-04:00</th>\n",
       "      <td>4445.410156</td>\n",
       "      <td>4449.850098</td>\n",
       "      <td>4416.609863</td>\n",
       "      <td>4443.950195</td>\n",
       "      <td>1988599000</td>\n",
       "      <td>NaN</td>\n",
       "    </tr>\n",
       "  </tbody>\n",
       "</table>\n",
       "<p>24044 rows × 6 columns</p>\n",
       "</div>"
      ],
      "text/plain": [
       "                                  Open         High          Low        Close  \\\n",
       "Date                                                                            \n",
       "1927-12-30 00:00:00-05:00    17.660000    17.660000    17.660000    17.660000   \n",
       "1928-01-03 00:00:00-05:00    17.760000    17.760000    17.760000    17.760000   \n",
       "1928-01-04 00:00:00-05:00    17.719999    17.719999    17.719999    17.719999   \n",
       "1928-01-05 00:00:00-05:00    17.549999    17.549999    17.549999    17.549999   \n",
       "1928-01-06 00:00:00-05:00    17.660000    17.660000    17.660000    17.660000   \n",
       "...                                ...          ...          ...          ...   \n",
       "2023-09-13 00:00:00-04:00  4462.649902  4479.390137  4453.520020  4467.439941   \n",
       "2023-09-14 00:00:00-04:00  4487.779785  4511.990234  4478.689941  4505.100098   \n",
       "2023-09-15 00:00:00-04:00  4497.979980  4497.979980  4447.209961  4450.319824   \n",
       "2023-09-18 00:00:00-04:00  4445.129883  4466.359863  4442.109863  4453.529785   \n",
       "2023-09-19 00:00:00-04:00  4445.410156  4449.850098  4416.609863  4443.950195   \n",
       "\n",
       "                               Volume     Tomorrow  \n",
       "Date                                                \n",
       "1927-12-30 00:00:00-05:00           0    17.760000  \n",
       "1928-01-03 00:00:00-05:00           0    17.719999  \n",
       "1928-01-04 00:00:00-05:00           0    17.549999  \n",
       "1928-01-05 00:00:00-05:00           0    17.660000  \n",
       "1928-01-06 00:00:00-05:00           0    17.500000  \n",
       "...                               ...          ...  \n",
       "2023-09-13 00:00:00-04:00  3529430000  4505.100098  \n",
       "2023-09-14 00:00:00-04:00  3648720000  4450.319824  \n",
       "2023-09-15 00:00:00-04:00  6932230000  4453.529785  \n",
       "2023-09-18 00:00:00-04:00  3161230000  4443.950195  \n",
       "2023-09-19 00:00:00-04:00  1988599000          NaN  \n",
       "\n",
       "[24044 rows x 6 columns]"
      ]
     },
     "execution_count": 12,
     "metadata": {},
     "output_type": "execute_result"
    }
   ],
   "source": [
    "sp500"
   ]
  },
  {
   "cell_type": "code",
   "execution_count": 14,
   "id": "bd5fcb3e",
   "metadata": {},
   "outputs": [],
   "source": [
    "sp500[\"Target\"] = (sp500[\"Tomorrow\"] > sp500[\"Close\"]).astype(int)"
   ]
  },
  {
   "cell_type": "code",
   "execution_count": 15,
   "id": "eaad61ad",
   "metadata": {},
   "outputs": [
    {
     "data": {
      "text/html": [
       "<div>\n",
       "<style scoped>\n",
       "    .dataframe tbody tr th:only-of-type {\n",
       "        vertical-align: middle;\n",
       "    }\n",
       "\n",
       "    .dataframe tbody tr th {\n",
       "        vertical-align: top;\n",
       "    }\n",
       "\n",
       "    .dataframe thead th {\n",
       "        text-align: right;\n",
       "    }\n",
       "</style>\n",
       "<table border=\"1\" class=\"dataframe\">\n",
       "  <thead>\n",
       "    <tr style=\"text-align: right;\">\n",
       "      <th></th>\n",
       "      <th>Open</th>\n",
       "      <th>High</th>\n",
       "      <th>Low</th>\n",
       "      <th>Close</th>\n",
       "      <th>Volume</th>\n",
       "      <th>Tomorrow</th>\n",
       "      <th>Target</th>\n",
       "    </tr>\n",
       "    <tr>\n",
       "      <th>Date</th>\n",
       "      <th></th>\n",
       "      <th></th>\n",
       "      <th></th>\n",
       "      <th></th>\n",
       "      <th></th>\n",
       "      <th></th>\n",
       "      <th></th>\n",
       "    </tr>\n",
       "  </thead>\n",
       "  <tbody>\n",
       "    <tr>\n",
       "      <th>1927-12-30 00:00:00-05:00</th>\n",
       "      <td>17.660000</td>\n",
       "      <td>17.660000</td>\n",
       "      <td>17.660000</td>\n",
       "      <td>17.660000</td>\n",
       "      <td>0</td>\n",
       "      <td>17.760000</td>\n",
       "      <td>1</td>\n",
       "    </tr>\n",
       "    <tr>\n",
       "      <th>1928-01-03 00:00:00-05:00</th>\n",
       "      <td>17.760000</td>\n",
       "      <td>17.760000</td>\n",
       "      <td>17.760000</td>\n",
       "      <td>17.760000</td>\n",
       "      <td>0</td>\n",
       "      <td>17.719999</td>\n",
       "      <td>0</td>\n",
       "    </tr>\n",
       "    <tr>\n",
       "      <th>1928-01-04 00:00:00-05:00</th>\n",
       "      <td>17.719999</td>\n",
       "      <td>17.719999</td>\n",
       "      <td>17.719999</td>\n",
       "      <td>17.719999</td>\n",
       "      <td>0</td>\n",
       "      <td>17.549999</td>\n",
       "      <td>0</td>\n",
       "    </tr>\n",
       "    <tr>\n",
       "      <th>1928-01-05 00:00:00-05:00</th>\n",
       "      <td>17.549999</td>\n",
       "      <td>17.549999</td>\n",
       "      <td>17.549999</td>\n",
       "      <td>17.549999</td>\n",
       "      <td>0</td>\n",
       "      <td>17.660000</td>\n",
       "      <td>1</td>\n",
       "    </tr>\n",
       "    <tr>\n",
       "      <th>1928-01-06 00:00:00-05:00</th>\n",
       "      <td>17.660000</td>\n",
       "      <td>17.660000</td>\n",
       "      <td>17.660000</td>\n",
       "      <td>17.660000</td>\n",
       "      <td>0</td>\n",
       "      <td>17.500000</td>\n",
       "      <td>0</td>\n",
       "    </tr>\n",
       "    <tr>\n",
       "      <th>...</th>\n",
       "      <td>...</td>\n",
       "      <td>...</td>\n",
       "      <td>...</td>\n",
       "      <td>...</td>\n",
       "      <td>...</td>\n",
       "      <td>...</td>\n",
       "      <td>...</td>\n",
       "    </tr>\n",
       "    <tr>\n",
       "      <th>2023-09-13 00:00:00-04:00</th>\n",
       "      <td>4462.649902</td>\n",
       "      <td>4479.390137</td>\n",
       "      <td>4453.520020</td>\n",
       "      <td>4467.439941</td>\n",
       "      <td>3529430000</td>\n",
       "      <td>4505.100098</td>\n",
       "      <td>1</td>\n",
       "    </tr>\n",
       "    <tr>\n",
       "      <th>2023-09-14 00:00:00-04:00</th>\n",
       "      <td>4487.779785</td>\n",
       "      <td>4511.990234</td>\n",
       "      <td>4478.689941</td>\n",
       "      <td>4505.100098</td>\n",
       "      <td>3648720000</td>\n",
       "      <td>4450.319824</td>\n",
       "      <td>0</td>\n",
       "    </tr>\n",
       "    <tr>\n",
       "      <th>2023-09-15 00:00:00-04:00</th>\n",
       "      <td>4497.979980</td>\n",
       "      <td>4497.979980</td>\n",
       "      <td>4447.209961</td>\n",
       "      <td>4450.319824</td>\n",
       "      <td>6932230000</td>\n",
       "      <td>4453.529785</td>\n",
       "      <td>1</td>\n",
       "    </tr>\n",
       "    <tr>\n",
       "      <th>2023-09-18 00:00:00-04:00</th>\n",
       "      <td>4445.129883</td>\n",
       "      <td>4466.359863</td>\n",
       "      <td>4442.109863</td>\n",
       "      <td>4453.529785</td>\n",
       "      <td>3161230000</td>\n",
       "      <td>4443.950195</td>\n",
       "      <td>0</td>\n",
       "    </tr>\n",
       "    <tr>\n",
       "      <th>2023-09-19 00:00:00-04:00</th>\n",
       "      <td>4445.410156</td>\n",
       "      <td>4449.850098</td>\n",
       "      <td>4416.609863</td>\n",
       "      <td>4443.950195</td>\n",
       "      <td>1988599000</td>\n",
       "      <td>NaN</td>\n",
       "      <td>0</td>\n",
       "    </tr>\n",
       "  </tbody>\n",
       "</table>\n",
       "<p>24044 rows × 7 columns</p>\n",
       "</div>"
      ],
      "text/plain": [
       "                                  Open         High          Low        Close  \\\n",
       "Date                                                                            \n",
       "1927-12-30 00:00:00-05:00    17.660000    17.660000    17.660000    17.660000   \n",
       "1928-01-03 00:00:00-05:00    17.760000    17.760000    17.760000    17.760000   \n",
       "1928-01-04 00:00:00-05:00    17.719999    17.719999    17.719999    17.719999   \n",
       "1928-01-05 00:00:00-05:00    17.549999    17.549999    17.549999    17.549999   \n",
       "1928-01-06 00:00:00-05:00    17.660000    17.660000    17.660000    17.660000   \n",
       "...                                ...          ...          ...          ...   \n",
       "2023-09-13 00:00:00-04:00  4462.649902  4479.390137  4453.520020  4467.439941   \n",
       "2023-09-14 00:00:00-04:00  4487.779785  4511.990234  4478.689941  4505.100098   \n",
       "2023-09-15 00:00:00-04:00  4497.979980  4497.979980  4447.209961  4450.319824   \n",
       "2023-09-18 00:00:00-04:00  4445.129883  4466.359863  4442.109863  4453.529785   \n",
       "2023-09-19 00:00:00-04:00  4445.410156  4449.850098  4416.609863  4443.950195   \n",
       "\n",
       "                               Volume     Tomorrow  Target  \n",
       "Date                                                        \n",
       "1927-12-30 00:00:00-05:00           0    17.760000       1  \n",
       "1928-01-03 00:00:00-05:00           0    17.719999       0  \n",
       "1928-01-04 00:00:00-05:00           0    17.549999       0  \n",
       "1928-01-05 00:00:00-05:00           0    17.660000       1  \n",
       "1928-01-06 00:00:00-05:00           0    17.500000       0  \n",
       "...                               ...          ...     ...  \n",
       "2023-09-13 00:00:00-04:00  3529430000  4505.100098       1  \n",
       "2023-09-14 00:00:00-04:00  3648720000  4450.319824       0  \n",
       "2023-09-15 00:00:00-04:00  6932230000  4453.529785       1  \n",
       "2023-09-18 00:00:00-04:00  3161230000  4443.950195       0  \n",
       "2023-09-19 00:00:00-04:00  1988599000          NaN       0  \n",
       "\n",
       "[24044 rows x 7 columns]"
      ]
     },
     "execution_count": 15,
     "metadata": {},
     "output_type": "execute_result"
    }
   ],
   "source": [
    "sp500"
   ]
  },
  {
   "cell_type": "code",
   "execution_count": 16,
   "id": "54db73bf",
   "metadata": {},
   "outputs": [],
   "source": [
    "sp500 = sp500.loc[\"1990-01-01\":].copy()"
   ]
  },
  {
   "cell_type": "code",
   "execution_count": 17,
   "id": "902dd6f0",
   "metadata": {},
   "outputs": [
    {
     "data": {
      "text/html": [
       "<div>\n",
       "<style scoped>\n",
       "    .dataframe tbody tr th:only-of-type {\n",
       "        vertical-align: middle;\n",
       "    }\n",
       "\n",
       "    .dataframe tbody tr th {\n",
       "        vertical-align: top;\n",
       "    }\n",
       "\n",
       "    .dataframe thead th {\n",
       "        text-align: right;\n",
       "    }\n",
       "</style>\n",
       "<table border=\"1\" class=\"dataframe\">\n",
       "  <thead>\n",
       "    <tr style=\"text-align: right;\">\n",
       "      <th></th>\n",
       "      <th>Open</th>\n",
       "      <th>High</th>\n",
       "      <th>Low</th>\n",
       "      <th>Close</th>\n",
       "      <th>Volume</th>\n",
       "      <th>Tomorrow</th>\n",
       "      <th>Target</th>\n",
       "    </tr>\n",
       "    <tr>\n",
       "      <th>Date</th>\n",
       "      <th></th>\n",
       "      <th></th>\n",
       "      <th></th>\n",
       "      <th></th>\n",
       "      <th></th>\n",
       "      <th></th>\n",
       "      <th></th>\n",
       "    </tr>\n",
       "  </thead>\n",
       "  <tbody>\n",
       "    <tr>\n",
       "      <th>1990-01-02 00:00:00-05:00</th>\n",
       "      <td>353.399994</td>\n",
       "      <td>359.690002</td>\n",
       "      <td>351.980011</td>\n",
       "      <td>359.690002</td>\n",
       "      <td>162070000</td>\n",
       "      <td>358.760010</td>\n",
       "      <td>0</td>\n",
       "    </tr>\n",
       "    <tr>\n",
       "      <th>1990-01-03 00:00:00-05:00</th>\n",
       "      <td>359.690002</td>\n",
       "      <td>360.589996</td>\n",
       "      <td>357.890015</td>\n",
       "      <td>358.760010</td>\n",
       "      <td>192330000</td>\n",
       "      <td>355.670013</td>\n",
       "      <td>0</td>\n",
       "    </tr>\n",
       "    <tr>\n",
       "      <th>1990-01-04 00:00:00-05:00</th>\n",
       "      <td>358.760010</td>\n",
       "      <td>358.760010</td>\n",
       "      <td>352.890015</td>\n",
       "      <td>355.670013</td>\n",
       "      <td>177000000</td>\n",
       "      <td>352.200012</td>\n",
       "      <td>0</td>\n",
       "    </tr>\n",
       "    <tr>\n",
       "      <th>1990-01-05 00:00:00-05:00</th>\n",
       "      <td>355.670013</td>\n",
       "      <td>355.670013</td>\n",
       "      <td>351.350006</td>\n",
       "      <td>352.200012</td>\n",
       "      <td>158530000</td>\n",
       "      <td>353.790009</td>\n",
       "      <td>1</td>\n",
       "    </tr>\n",
       "    <tr>\n",
       "      <th>1990-01-08 00:00:00-05:00</th>\n",
       "      <td>352.200012</td>\n",
       "      <td>354.239990</td>\n",
       "      <td>350.540009</td>\n",
       "      <td>353.790009</td>\n",
       "      <td>140110000</td>\n",
       "      <td>349.619995</td>\n",
       "      <td>0</td>\n",
       "    </tr>\n",
       "    <tr>\n",
       "      <th>...</th>\n",
       "      <td>...</td>\n",
       "      <td>...</td>\n",
       "      <td>...</td>\n",
       "      <td>...</td>\n",
       "      <td>...</td>\n",
       "      <td>...</td>\n",
       "      <td>...</td>\n",
       "    </tr>\n",
       "    <tr>\n",
       "      <th>2023-09-13 00:00:00-04:00</th>\n",
       "      <td>4462.649902</td>\n",
       "      <td>4479.390137</td>\n",
       "      <td>4453.520020</td>\n",
       "      <td>4467.439941</td>\n",
       "      <td>3529430000</td>\n",
       "      <td>4505.100098</td>\n",
       "      <td>1</td>\n",
       "    </tr>\n",
       "    <tr>\n",
       "      <th>2023-09-14 00:00:00-04:00</th>\n",
       "      <td>4487.779785</td>\n",
       "      <td>4511.990234</td>\n",
       "      <td>4478.689941</td>\n",
       "      <td>4505.100098</td>\n",
       "      <td>3648720000</td>\n",
       "      <td>4450.319824</td>\n",
       "      <td>0</td>\n",
       "    </tr>\n",
       "    <tr>\n",
       "      <th>2023-09-15 00:00:00-04:00</th>\n",
       "      <td>4497.979980</td>\n",
       "      <td>4497.979980</td>\n",
       "      <td>4447.209961</td>\n",
       "      <td>4450.319824</td>\n",
       "      <td>6932230000</td>\n",
       "      <td>4453.529785</td>\n",
       "      <td>1</td>\n",
       "    </tr>\n",
       "    <tr>\n",
       "      <th>2023-09-18 00:00:00-04:00</th>\n",
       "      <td>4445.129883</td>\n",
       "      <td>4466.359863</td>\n",
       "      <td>4442.109863</td>\n",
       "      <td>4453.529785</td>\n",
       "      <td>3161230000</td>\n",
       "      <td>4443.950195</td>\n",
       "      <td>0</td>\n",
       "    </tr>\n",
       "    <tr>\n",
       "      <th>2023-09-19 00:00:00-04:00</th>\n",
       "      <td>4445.410156</td>\n",
       "      <td>4449.850098</td>\n",
       "      <td>4416.609863</td>\n",
       "      <td>4443.950195</td>\n",
       "      <td>1988599000</td>\n",
       "      <td>NaN</td>\n",
       "      <td>0</td>\n",
       "    </tr>\n",
       "  </tbody>\n",
       "</table>\n",
       "<p>8494 rows × 7 columns</p>\n",
       "</div>"
      ],
      "text/plain": [
       "                                  Open         High          Low        Close  \\\n",
       "Date                                                                            \n",
       "1990-01-02 00:00:00-05:00   353.399994   359.690002   351.980011   359.690002   \n",
       "1990-01-03 00:00:00-05:00   359.690002   360.589996   357.890015   358.760010   \n",
       "1990-01-04 00:00:00-05:00   358.760010   358.760010   352.890015   355.670013   \n",
       "1990-01-05 00:00:00-05:00   355.670013   355.670013   351.350006   352.200012   \n",
       "1990-01-08 00:00:00-05:00   352.200012   354.239990   350.540009   353.790009   \n",
       "...                                ...          ...          ...          ...   \n",
       "2023-09-13 00:00:00-04:00  4462.649902  4479.390137  4453.520020  4467.439941   \n",
       "2023-09-14 00:00:00-04:00  4487.779785  4511.990234  4478.689941  4505.100098   \n",
       "2023-09-15 00:00:00-04:00  4497.979980  4497.979980  4447.209961  4450.319824   \n",
       "2023-09-18 00:00:00-04:00  4445.129883  4466.359863  4442.109863  4453.529785   \n",
       "2023-09-19 00:00:00-04:00  4445.410156  4449.850098  4416.609863  4443.950195   \n",
       "\n",
       "                               Volume     Tomorrow  Target  \n",
       "Date                                                        \n",
       "1990-01-02 00:00:00-05:00   162070000   358.760010       0  \n",
       "1990-01-03 00:00:00-05:00   192330000   355.670013       0  \n",
       "1990-01-04 00:00:00-05:00   177000000   352.200012       0  \n",
       "1990-01-05 00:00:00-05:00   158530000   353.790009       1  \n",
       "1990-01-08 00:00:00-05:00   140110000   349.619995       0  \n",
       "...                               ...          ...     ...  \n",
       "2023-09-13 00:00:00-04:00  3529430000  4505.100098       1  \n",
       "2023-09-14 00:00:00-04:00  3648720000  4450.319824       0  \n",
       "2023-09-15 00:00:00-04:00  6932230000  4453.529785       1  \n",
       "2023-09-18 00:00:00-04:00  3161230000  4443.950195       0  \n",
       "2023-09-19 00:00:00-04:00  1988599000          NaN       0  \n",
       "\n",
       "[8494 rows x 7 columns]"
      ]
     },
     "execution_count": 17,
     "metadata": {},
     "output_type": "execute_result"
    }
   ],
   "source": [
    "sp500"
   ]
  },
  {
   "cell_type": "code",
   "execution_count": 19,
   "id": "d9fde065",
   "metadata": {},
   "outputs": [
    {
     "data": {
      "text/plain": [
       "RandomForestClassifier(min_samples_split=100, random_state=1)"
      ]
     },
     "execution_count": 19,
     "metadata": {},
     "output_type": "execute_result"
    }
   ],
   "source": [
    "from sklearn.ensemble import RandomForestClassifier\n",
    "\n",
    "model = RandomForestClassifier(n_estimators=100, min_samples_split=100, random_state=1)\n",
    "\n",
    "train = sp500.iloc[:-100]\n",
    "test = sp500.iloc[-100:]\n",
    "\n",
    "predictors = [\"Close\", \"Volume\", \"Open\", \"High\", \"Low\"]\n",
    "model.fit(train[predictors], train[\"Target\"])"
   ]
  },
  {
   "cell_type": "code",
   "execution_count": 21,
   "id": "7b5a56da",
   "metadata": {},
   "outputs": [],
   "source": [
    "from sklearn.metrics import precision_score\n",
    "\n",
    "preds = model.predict(test[predictors])\n"
   ]
  },
  {
   "cell_type": "code",
   "execution_count": 22,
   "id": "9cb48460",
   "metadata": {},
   "outputs": [],
   "source": [
    "import pandas as pd\n",
    "preds = pd.Series(preds, index=test.index)"
   ]
  },
  {
   "cell_type": "code",
   "execution_count": 23,
   "id": "3efae06e",
   "metadata": {},
   "outputs": [
    {
     "data": {
      "text/plain": [
       "Date\n",
       "2023-04-27 00:00:00-04:00    0\n",
       "2023-04-28 00:00:00-04:00    0\n",
       "2023-05-01 00:00:00-04:00    0\n",
       "2023-05-02 00:00:00-04:00    1\n",
       "2023-05-03 00:00:00-04:00    0\n",
       "                            ..\n",
       "2023-09-13 00:00:00-04:00    1\n",
       "2023-09-14 00:00:00-04:00    1\n",
       "2023-09-15 00:00:00-04:00    0\n",
       "2023-09-18 00:00:00-04:00    0\n",
       "2023-09-19 00:00:00-04:00    0\n",
       "Length: 100, dtype: int32"
      ]
     },
     "execution_count": 23,
     "metadata": {},
     "output_type": "execute_result"
    }
   ],
   "source": [
    "preds"
   ]
  },
  {
   "cell_type": "code",
   "execution_count": 24,
   "id": "c3148d0a",
   "metadata": {},
   "outputs": [
    {
     "data": {
      "text/plain": [
       "0.5588235294117647"
      ]
     },
     "execution_count": 24,
     "metadata": {},
     "output_type": "execute_result"
    }
   ],
   "source": [
    "precision_score(test[\"Target\"],preds)"
   ]
  },
  {
   "cell_type": "code",
   "execution_count": 26,
   "id": "28618667",
   "metadata": {},
   "outputs": [
    {
     "data": {
      "text/plain": [
       "<AxesSubplot:xlabel='Date'>"
      ]
     },
     "execution_count": 26,
     "metadata": {},
     "output_type": "execute_result"
    },
    {
     "data": {
      "image/png": "[encoded data removed]",
      "text/plain": [
       "<Figure size 640x480 with 1 Axes>"
      ]
     },
     "metadata": {},
     "output_type": "display_data"
    }
   ],
   "source": [
    "combined = pd.concat([test[\"Target\"], preds], axis=1)\n",
    "combined.plot()"
   ]
  },
  {
   "cell_type": "code",
   "execution_count": 28,
   "id": "841a2076",
   "metadata": {},
   "outputs": [],
   "source": [
    "def predict(train, test, predictors, model):\n",
    "    model.fit(train[predictors],train[\"Target\"])\n",
    "    preds = model.predict(test[predictors])\n",
    "    preds = pd.Series(preds, index=test.index, name=\"Predictions\")\n",
    "    combined = pd.concat([test[\"Target\"], preds],axis=1)\n",
    "    return combined"
   ]
  },
  {
   "cell_type": "code",
   "execution_count": 35,
   "id": "cd6cf7a8",
   "metadata": {},
   "outputs": [],
   "source": [
    "def backtest(data, model, predictors, start=2500, step=250):\n",
    "    all_predictions = []\n",
    "    \n",
    "    for i in range(start, data.shape[0], step):\n",
    "        train = data.iloc[0:i].copy()\n",
    "        test = data.iloc[i:(i+step)].copy()\n",
    "        predictions = predict(train, test, predictors, model)\n",
    "        all_predictions.append(predictions)\n",
    "    return pd.concat(all_predictions)"
   ]
  },
  {
   "cell_type": "code",
   "execution_count": 36,
   "id": "e7a9e935",
   "metadata": {},
   "outputs": [],
   "source": [
    "predictions = backtest(sp500, model, predictors)"
   ]
  },
  {
   "cell_type": "code",
   "execution_count": 37,
   "id": "6fb75b41",
   "metadata": {},
   "outputs": [
    {
     "data": {
      "text/plain": [
       "0    3436\n",
       "1    2558\n",
       "Name: Predictions, dtype: int64"
      ]
     },
     "execution_count": 37,
     "metadata": {},
     "output_type": "execute_result"
    }
   ],
   "source": [
    "predictions['Predictions'].value_counts()"
   ]
  },
  {
   "cell_type": "code",
   "execution_count": 38,
   "id": "92b8c330",
   "metadata": {},
   "outputs": [
    {
     "data": {
      "text/plain": [
       "0.5285379202501954"
      ]
     },
     "execution_count": 38,
     "metadata": {},
     "output_type": "execute_result"
    }
   ],
   "source": [
    "precision_score(predictions[\"Target\"], predictions[\"Predictions\"])"
   ]
  },
  {
   "cell_type": "code",
   "execution_count": 39,
   "id": "c0b1a275",
   "metadata": {},
   "outputs": [
    {
     "data": {
      "text/plain": [
       "1    0.5337\n",
       "0    0.4663\n",
       "Name: Target, dtype: float64"
      ]
     },
     "execution_count": 39,
     "metadata": {},
     "output_type": "execute_result"
    }
   ],
   "source": [
    "predictions[\"Target\"].value_counts() / predictions.shape[0]"
   ]
  },
  {
   "cell_type": "code",
   "execution_count": 43,
   "id": "5af14643",
   "metadata": {},
   "outputs": [],
   "source": [
    "horizons = [2, 5, 60, 250, 1000]\n",
    "new_predictors = []\n",
    "\n",
    "for horizon in horizons:\n",
    "    rolling_average = sp500.rolling(horizon).mean()\n",
    "    \n",
    "    ratio_column = f\"Close_Ratio_{horizon}\"\n",
    "    sp500[ratio_column] = sp500[\"Close\"] / rolling_average[\"Close\"]\n",
    "    \n",
    "    trend_column = f\"Trend_{horizon}\"\n",
    "    sp500[trend_column] = sp500.shift(1).rolling(horizon).sum()[\"Target\"]\n",
    "    \n",
    "    new_predictors += [ratio_column, trend_column]"
   ]
  },
  {
   "cell_type": "code",
   "execution_count": 45,
   "id": "7d45e718",
   "metadata": {},
   "outputs": [],
   "source": [
    "sp500 = sp500.dropna()"
   ]
  },
  {
   "cell_type": "code",
   "execution_count": 46,
   "id": "b52b4e77",
   "metadata": {},
   "outputs": [],
   "source": [
    "model = RandomForestClassifier(n_estimators=200, min_samples_split=50, random_state=1)"
   ]
  },
  {
   "cell_type": "code",
   "execution_count": 47,
   "id": "0a732f72",
   "metadata": {},
   "outputs": [],
   "source": [
    "def predict(train, test, predictors, model):\n",
    "    model.fit(train[predictors],train[\"Target\"])\n",
    "    preds = model.predict_proba(test[predictors])[:,1]\n",
    "    preds[preds >=.6] = 1\n",
    "    preds[preds < .6] = 0\n",
    "    preds = pd.Series(preds, index=test.index, name=\"Predictions\")\n",
    "    combined = pd.concat([test[\"Target\"], preds],axis=1)\n",
    "    return combined"
   ]
  },
  {
   "cell_type": "code",
   "execution_count": 48,
   "id": "f57dda40",
   "metadata": {},
   "outputs": [],
   "source": [
    "predictions = backtest(sp500, model, new_predictors)"
   ]
  },
  {
   "cell_type": "code",
   "execution_count": 49,
   "id": "f9ab847a",
   "metadata": {},
   "outputs": [
    {
     "data": {
      "text/plain": [
       "0.0    4171\n",
       "1.0     822\n",
       "Name: Predictions, dtype: int64"
      ]
     },
     "execution_count": 49,
     "metadata": {},
     "output_type": "execute_result"
    }
   ],
   "source": [
    "predictions[\"Predictions\"].value_counts()"
   ]
  },
  {
   "cell_type": "code",
   "execution_count": 50,
   "id": "1501eae4",
   "metadata": {},
   "outputs": [
    {
     "data": {
      "text/plain": [
       "0.5693430656934306"
      ]
     },
     "execution_count": 50,
     "metadata": {},
     "output_type": "execute_result"
    }
   ],
   "source": [
    "precision_score(predictions[\"Target\"], predictions[\"Predictions\"])"
   ]
  }
 ],
 "metadata": {
  "kernelspec": {
   "display_name": "Python 3 (ipykernel)",
   "language": "python",
   "name": "python3"
  },
  "language_info": {
   "codemirror_mode": {
    "name": "ipython",
    "version": 3
   },
   "file_extension": ".py",
   "mimetype": "text/x-python",
   "name": "python",
   "nbconvert_exporter": "python",
   "pygments_lexer": "ipython3",
   "version": "3.9.13"
  }
 },
 "nbformat": 4,
 "nbformat_minor": 5
}
